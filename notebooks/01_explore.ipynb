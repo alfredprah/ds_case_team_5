{
 "cells": [
  {
   "cell_type": "code",
   "execution_count": 3,
   "metadata": {},
   "outputs": [],
   "source": [
    "import numpy as np\n",
    "import pandas as pd\n",
    "import seaborn as sns\n",
    "import matplotlib as plt\n",
    "\n",
    "pd.set_option('display.max_columns', None)\n",
    "pd.set_option('display.max_rows', None)"
   ]
  },
  {
   "cell_type": "code",
   "execution_count": 6,
   "metadata": {},
   "outputs": [
    {
     "data": {
      "text/html": [
       "<div>\n",
       "<style scoped>\n",
       "    .dataframe tbody tr th:only-of-type {\n",
       "        vertical-align: middle;\n",
       "    }\n",
       "\n",
       "    .dataframe tbody tr th {\n",
       "        vertical-align: top;\n",
       "    }\n",
       "\n",
       "    .dataframe thead th {\n",
       "        text-align: right;\n",
       "    }\n",
       "</style>\n",
       "<table border=\"1\" class=\"dataframe\">\n",
       "  <thead>\n",
       "    <tr style=\"text-align: right;\">\n",
       "      <th></th>\n",
       "      <th>ProviderName</th>\n",
       "      <th>PID</th>\n",
       "      <th>ProviderPracticeAddress1</th>\n",
       "      <th>ProviderPracticeAddress2</th>\n",
       "      <th>ProviderPracticeCity</th>\n",
       "      <th>ProviderPracticeStateCode</th>\n",
       "      <th>ProviderPracticeZipCode</th>\n",
       "      <th>County</th>\n",
       "      <th>CCName</th>\n",
       "      <th>Lat</th>\n",
       "      <th>Lon</th>\n",
       "      <th>EpisodeID</th>\n",
       "      <th>ContractType</th>\n",
       "      <th>AdmitDate</th>\n",
       "      <th>DischargeDate</th>\n",
       "    </tr>\n",
       "  </thead>\n",
       "  <tbody>\n",
       "    <tr>\n",
       "      <th>0</th>\n",
       "      <td>648 Medical Squadron</td>\n",
       "      <td>1</td>\n",
       "      <td>8006 CHENNAULT RD</td>\n",
       "      <td>STE 1</td>\n",
       "      <td>BROOKS CITY BASE</td>\n",
       "      <td>TX</td>\n",
       "      <td>78235</td>\n",
       "      <td>Bexar</td>\n",
       "      <td>CC1</td>\n",
       "      <td>30.581417</td>\n",
       "      <td>-96.273549</td>\n",
       "      <td>NaN</td>\n",
       "      <td>NaN</td>\n",
       "      <td>NaN</td>\n",
       "      <td>NaN</td>\n",
       "    </tr>\n",
       "    <tr>\n",
       "      <th>1</th>\n",
       "      <td>Abilene Nursing and Rehabilitation Center</td>\n",
       "      <td>2</td>\n",
       "      <td>2630 OLD ANSON RD</td>\n",
       "      <td>NaN</td>\n",
       "      <td>ABILENE</td>\n",
       "      <td>TX</td>\n",
       "      <td>79603</td>\n",
       "      <td>Taylor</td>\n",
       "      <td>CC2</td>\n",
       "      <td>29.941640</td>\n",
       "      <td>-95.621466</td>\n",
       "      <td>NaN</td>\n",
       "      <td>NaN</td>\n",
       "      <td>NaN</td>\n",
       "      <td>NaN</td>\n",
       "    </tr>\n",
       "    <tr>\n",
       "      <th>2</th>\n",
       "      <td>Abilene Regional Medical Center</td>\n",
       "      <td>3</td>\n",
       "      <td>6250 US HIGHWAY 83</td>\n",
       "      <td>NaN</td>\n",
       "      <td>ABILENE</td>\n",
       "      <td>TX</td>\n",
       "      <td>79606</td>\n",
       "      <td>Taylor</td>\n",
       "      <td>CC3</td>\n",
       "      <td>29.572316</td>\n",
       "      <td>-98.664508</td>\n",
       "      <td>NaN</td>\n",
       "      <td>NaN</td>\n",
       "      <td>NaN</td>\n",
       "      <td>NaN</td>\n",
       "    </tr>\n",
       "    <tr>\n",
       "      <th>3</th>\n",
       "      <td>Abilene Regional Medical Center Skilled Nursin...</td>\n",
       "      <td>4</td>\n",
       "      <td>6250 HIGHWAY 83 84 AT ANTILLEY RD</td>\n",
       "      <td>NaN</td>\n",
       "      <td>ABILENE</td>\n",
       "      <td>TX</td>\n",
       "      <td>79606</td>\n",
       "      <td>Taylor</td>\n",
       "      <td>CC4</td>\n",
       "      <td>33.014365</td>\n",
       "      <td>-96.914067</td>\n",
       "      <td>NaN</td>\n",
       "      <td>NaN</td>\n",
       "      <td>NaN</td>\n",
       "      <td>NaN</td>\n",
       "    </tr>\n",
       "    <tr>\n",
       "      <th>4</th>\n",
       "      <td>Absolutely Angels, Inc</td>\n",
       "      <td>5</td>\n",
       "      <td>936 E PRODUCTION DR</td>\n",
       "      <td>NaN</td>\n",
       "      <td>PILOT POINT</td>\n",
       "      <td>TX</td>\n",
       "      <td>76258</td>\n",
       "      <td>Denton</td>\n",
       "      <td>CC5</td>\n",
       "      <td>32.906213</td>\n",
       "      <td>-97.245081</td>\n",
       "      <td>NaN</td>\n",
       "      <td>NaN</td>\n",
       "      <td>NaN</td>\n",
       "      <td>NaN</td>\n",
       "    </tr>\n",
       "  </tbody>\n",
       "</table>\n",
       "</div>"
      ],
      "text/plain": [
       "                                        ProviderName  PID  \\\n",
       "0                               648 Medical Squadron    1   \n",
       "1          Abilene Nursing and Rehabilitation Center    2   \n",
       "2                    Abilene Regional Medical Center    3   \n",
       "3  Abilene Regional Medical Center Skilled Nursin...    4   \n",
       "4                             Absolutely Angels, Inc    5   \n",
       "\n",
       "            ProviderPracticeAddress1 ProviderPracticeAddress2  \\\n",
       "0                  8006 CHENNAULT RD                    STE 1   \n",
       "1                  2630 OLD ANSON RD                      NaN   \n",
       "2                 6250 US HIGHWAY 83                      NaN   \n",
       "3  6250 HIGHWAY 83 84 AT ANTILLEY RD                      NaN   \n",
       "4                936 E PRODUCTION DR                      NaN   \n",
       "\n",
       "  ProviderPracticeCity ProviderPracticeStateCode  ProviderPracticeZipCode  \\\n",
       "0     BROOKS CITY BASE                        TX                    78235   \n",
       "1              ABILENE                        TX                    79603   \n",
       "2              ABILENE                        TX                    79606   \n",
       "3              ABILENE                        TX                    79606   \n",
       "4          PILOT POINT                        TX                    76258   \n",
       "\n",
       "   County CCName        Lat        Lon  EpisodeID ContractType AdmitDate  \\\n",
       "0   Bexar    CC1  30.581417 -96.273549        NaN          NaN       NaN   \n",
       "1  Taylor    CC2  29.941640 -95.621466        NaN          NaN       NaN   \n",
       "2  Taylor    CC3  29.572316 -98.664508        NaN          NaN       NaN   \n",
       "3  Taylor    CC4  33.014365 -96.914067        NaN          NaN       NaN   \n",
       "4  Denton    CC5  32.906213 -97.245081        NaN          NaN       NaN   \n",
       "\n",
       "  DischargeDate  \n",
       "0           NaN  \n",
       "1           NaN  \n",
       "2           NaN  \n",
       "3           NaN  \n",
       "4           NaN  "
      ]
     },
     "execution_count": 6,
     "metadata": {},
     "output_type": "execute_result"
    }
   ],
   "source": [
    "data = pd.read_csv('../data/merged_data.csv')\n",
    "data.dropna()\n",
    "data.head()"
   ]
  },
  {
   "cell_type": "markdown",
   "metadata": {},
   "source": [
    "#### Columns"
   ]
  },
  {
   "cell_type": "code",
   "execution_count": 49,
   "metadata": {},
   "outputs": [
    {
     "data": {
      "text/plain": [
       "ProviderName                  object\n",
       "PID                            int64\n",
       "ProviderPracticeAddress1      object\n",
       "ProviderPracticeAddress2      object\n",
       "ProviderPracticeCity          object\n",
       "ProviderPracticeStateCode     object\n",
       "ProviderPracticeZipCode        int64\n",
       "County                        object\n",
       "CCName                        object\n",
       "Lat                          float64\n",
       "Lon                          float64\n",
       "EpisodeID                    float64\n",
       "ContractType                  object\n",
       "AdmitDate                     object\n",
       "DischargeDate                 object\n",
       "dtype: object"
      ]
     },
     "execution_count": 49,
     "metadata": {},
     "output_type": "execute_result"
    }
   ],
   "source": [
    "data.dtypes"
   ]
  },
  {
   "cell_type": "markdown",
   "metadata": {},
   "source": [
    "##### 10 columns with text data, 5 columns with nums. "
   ]
  },
  {
   "cell_type": "code",
   "execution_count": 50,
   "metadata": {},
   "outputs": [
    {
     "data": {
      "text/html": [
       "<div>\n",
       "<style scoped>\n",
       "    .dataframe tbody tr th:only-of-type {\n",
       "        vertical-align: middle;\n",
       "    }\n",
       "\n",
       "    .dataframe tbody tr th {\n",
       "        vertical-align: top;\n",
       "    }\n",
       "\n",
       "    .dataframe thead th {\n",
       "        text-align: right;\n",
       "    }\n",
       "</style>\n",
       "<table border=\"1\" class=\"dataframe\">\n",
       "  <thead>\n",
       "    <tr style=\"text-align: right;\">\n",
       "      <th></th>\n",
       "      <th>PID</th>\n",
       "      <th>ProviderPracticeZipCode</th>\n",
       "      <th>Lat</th>\n",
       "      <th>Lon</th>\n",
       "      <th>EpisodeID</th>\n",
       "    </tr>\n",
       "  </thead>\n",
       "  <tbody>\n",
       "    <tr>\n",
       "      <th>count</th>\n",
       "      <td>40418.000000</td>\n",
       "      <td>40418.000000</td>\n",
       "      <td>627.000000</td>\n",
       "      <td>627.000000</td>\n",
       "      <td>39849.000000</td>\n",
       "    </tr>\n",
       "    <tr>\n",
       "      <th>mean</th>\n",
       "      <td>963.676901</td>\n",
       "      <td>76961.927854</td>\n",
       "      <td>31.634300</td>\n",
       "      <td>-96.580880</td>\n",
       "      <td>27120.102637</td>\n",
       "    </tr>\n",
       "    <tr>\n",
       "      <th>std</th>\n",
       "      <td>539.821562</td>\n",
       "      <td>1336.133952</td>\n",
       "      <td>1.353716</td>\n",
       "      <td>2.703162</td>\n",
       "      <td>17224.734893</td>\n",
       "    </tr>\n",
       "    <tr>\n",
       "      <th>min</th>\n",
       "      <td>1.000000</td>\n",
       "      <td>75002.000000</td>\n",
       "      <td>29.519390</td>\n",
       "      <td>-106.433022</td>\n",
       "      <td>1.000000</td>\n",
       "    </tr>\n",
       "    <tr>\n",
       "      <th>25%</th>\n",
       "      <td>505.000000</td>\n",
       "      <td>75785.000000</td>\n",
       "      <td>30.256568</td>\n",
       "      <td>-97.849808</td>\n",
       "      <td>10755.000000</td>\n",
       "    </tr>\n",
       "    <tr>\n",
       "      <th>50%</th>\n",
       "      <td>1071.000000</td>\n",
       "      <td>77070.000000</td>\n",
       "      <td>31.612382</td>\n",
       "      <td>-96.713426</td>\n",
       "      <td>31229.000000</td>\n",
       "    </tr>\n",
       "    <tr>\n",
       "      <th>75%</th>\n",
       "      <td>1456.000000</td>\n",
       "      <td>78028.000000</td>\n",
       "      <td>33.060501</td>\n",
       "      <td>-94.645918</td>\n",
       "      <td>42174.000000</td>\n",
       "    </tr>\n",
       "    <tr>\n",
       "      <th>max</th>\n",
       "      <td>1813.000000</td>\n",
       "      <td>79936.000000</td>\n",
       "      <td>33.494254</td>\n",
       "      <td>-94.006402</td>\n",
       "      <td>56817.000000</td>\n",
       "    </tr>\n",
       "  </tbody>\n",
       "</table>\n",
       "</div>"
      ],
      "text/plain": [
       "                PID  ProviderPracticeZipCode         Lat         Lon  \\\n",
       "count  40418.000000             40418.000000  627.000000  627.000000   \n",
       "mean     963.676901             76961.927854   31.634300  -96.580880   \n",
       "std      539.821562              1336.133952    1.353716    2.703162   \n",
       "min        1.000000             75002.000000   29.519390 -106.433022   \n",
       "25%      505.000000             75785.000000   30.256568  -97.849808   \n",
       "50%     1071.000000             77070.000000   31.612382  -96.713426   \n",
       "75%     1456.000000             78028.000000   33.060501  -94.645918   \n",
       "max     1813.000000             79936.000000   33.494254  -94.006402   \n",
       "\n",
       "          EpisodeID  \n",
       "count  39849.000000  \n",
       "mean   27120.102637  \n",
       "std    17224.734893  \n",
       "min        1.000000  \n",
       "25%    10755.000000  \n",
       "50%    31229.000000  \n",
       "75%    42174.000000  \n",
       "max    56817.000000  "
      ]
     },
     "execution_count": 50,
     "metadata": {},
     "output_type": "execute_result"
    }
   ],
   "source": [
    "data.describe()"
   ]
  },
  {
   "cell_type": "markdown",
   "metadata": {},
   "source": [
    "#### Contract Type"
   ]
  },
  {
   "cell_type": "code",
   "execution_count": 51,
   "metadata": {},
   "outputs": [
    {
     "data": {
      "text/plain": [
       "CT2    29467\n",
       "CT1    10382\n",
       "Name: ContractType, dtype: int64"
      ]
     },
     "execution_count": 51,
     "metadata": {},
     "output_type": "execute_result"
    }
   ],
   "source": [
    "data['ContractType'].value_counts()"
   ]
  },
  {
   "cell_type": "markdown",
   "metadata": {},
   "source": [
    "*Note: CT2 is more popular by a huge margin.*"
   ]
  },
  {
   "cell_type": "markdown",
   "metadata": {},
   "source": [
    " "
   ]
  },
  {
   "cell_type": "markdown",
   "metadata": {},
   "source": [
    "#### Provider Name"
   ]
  },
  {
   "cell_type": "code",
   "execution_count": 52,
   "metadata": {},
   "outputs": [
    {
     "data": {
      "text/plain": [
       "1797"
      ]
     },
     "execution_count": 52,
     "metadata": {},
     "output_type": "execute_result"
    }
   ],
   "source": [
    "data['ProviderName'].nunique()"
   ]
  },
  {
   "cell_type": "markdown",
   "metadata": {},
   "source": [
    "*There 1,797 unique Providers.*"
   ]
  },
  {
   "cell_type": "markdown",
   "metadata": {},
   "source": [
    " "
   ]
  }
 ],
 "metadata": {
  "kernelspec": {
   "display_name": "Python 3",
   "language": "python",
   "name": "python3"
  },
  "language_info": {
   "codemirror_mode": {
    "name": "ipython",
    "version": 3
   },
   "file_extension": ".py",
   "mimetype": "text/x-python",
   "name": "python",
   "nbconvert_exporter": "python",
   "pygments_lexer": "ipython3",
   "version": "3.7.3"
  }
 },
 "nbformat": 4,
 "nbformat_minor": 4
}
